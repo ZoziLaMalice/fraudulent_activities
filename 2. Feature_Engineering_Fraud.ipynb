{
 "nbformat": 4,
 "nbformat_minor": 2,
 "metadata": {
  "language_info": {
   "name": "python",
   "codemirror_mode": {
    "name": "ipython",
    "version": 3
   },
   "version": "3.6.9-final"
  },
  "orig_nbformat": 2,
  "file_extension": ".py",
  "mimetype": "text/x-python",
  "name": "python",
  "npconvert_exporter": "python",
  "pygments_lexer": "ipython3",
  "version": 3,
  "kernelspec": {
   "name": "python36964bitd26ad74962cb459090cbbc9c945ec049",
   "display_name": "Python 3.6.9 64-bit"
  }
 },
 "cells": [
  {
   "cell_type": "code",
   "execution_count": 1,
   "metadata": {},
   "outputs": [],
   "source": [
    "import pandas as pd\n",
    "import numpy as np\n",
    "import seaborn as sns\n",
    "import matplotlib.pyplot as plt"
   ]
  },
  {
   "cell_type": "code",
   "execution_count": 2,
   "metadata": {},
   "outputs": [],
   "source": [
    "fraud = pd.read_csv('./Datasets/Fraud_Data.csv')\n",
    "ipAdd = pd.read_csv('./Datasets/IpAddress_to_Country.csv')"
   ]
  },
  {
   "cell_type": "code",
   "execution_count": 3,
   "metadata": {},
   "outputs": [
    {
     "output_type": "execute_result",
     "data": {
      "text/plain": "'\\ndef ip_to_country(ip=None):\\n    try :\\n        return ipAdd.country[(ipAdd.lower_bound_ip_address <= ip) \\n                             & (ipAdd.upper_bound_ip_address >= ip)].iloc[0]\\n    except IndexError :\\n        return \"Unknown\"     \\n# To affect a country to each IP :\\nfraud[\"ip_country\"] = fraud.ip_address.apply(ip_to_country)\\n'"
     },
     "metadata": {},
     "execution_count": 3
    }
   ],
   "source": [
    "# function that takes an IP address as argument and \n",
    "# returns country associated based on IP_table\n",
    "'''\n",
    "def ip_to_country(ip=None):\n",
    "    try :\n",
    "        return ipAdd.country[(ipAdd.lower_bound_ip_address <= ip) \n",
    "                             & (ipAdd.upper_bound_ip_address >= ip)].iloc[0]\n",
    "    except IndexError :\n",
    "        return \"Unknown\"     \n",
    "# To affect a country to each IP :\n",
    "fraud[\"ip_country\"] = fraud.ip_address.apply(ip_to_country)\n",
    "'''"
   ]
  },
  {
   "cell_type": "code",
   "execution_count": 4,
   "metadata": {},
   "outputs": [],
   "source": [
    "# fraud.to_csv('./Datasets/Fraud_Data_with_country.csv')"
   ]
  },
  {
   "cell_type": "code",
   "execution_count": 40,
   "metadata": {},
   "outputs": [],
   "source": [
    "fraud = pd.read_csv('./Datasets/Fraud_Data_with_country.csv')"
   ]
  },
  {
   "cell_type": "code",
   "execution_count": 44,
   "metadata": {},
   "outputs": [
    {
     "output_type": "execute_result",
     "data": {
      "text/plain": "   Unnamed: 0  user_id          signup_time        purchase_time  \\\n0           0    22058  2015-02-24 22:55:49  2015-04-18 02:47:11   \n1           1   333320  2015-06-07 20:39:50  2015-06-08 01:38:54   \n2           2     1359  2015-01-01 18:52:44  2015-01-01 18:52:45   \n3           3   150084  2015-04-28 21:13:25  2015-05-04 13:54:50   \n4           4   221365  2015-07-21 07:09:52  2015-09-09 18:40:53   \n\n   purchase_value      device_id source browser sex  age    ip_address  class  \\\n0              34  QVPSPJUOCKZAR    SEO  Chrome   M   39  7.327584e+08      0   \n1              16  EOGFQPIZPYXFZ    Ads  Chrome   F   53  3.503114e+08      0   \n2              15  YSSKYOSJHPPLJ    SEO   Opera   M   53  2.621474e+09      1   \n3              44  ATGTXKYKUDUQN    SEO  Safari   M   41  3.840542e+09      0   \n4              39  NAUITBZFJKHWW    Ads  Safari   M   45  4.155831e+08      0   \n\n      ip_country  \n0          Japan  \n1  United States  \n2  United States  \n3        Unknown  \n4  United States  ",
      "text/html": "<div>\n<style scoped>\n    .dataframe tbody tr th:only-of-type {\n        vertical-align: middle;\n    }\n\n    .dataframe tbody tr th {\n        vertical-align: top;\n    }\n\n    .dataframe thead th {\n        text-align: right;\n    }\n</style>\n<table border=\"1\" class=\"dataframe\">\n  <thead>\n    <tr style=\"text-align: right;\">\n      <th></th>\n      <th>Unnamed: 0</th>\n      <th>user_id</th>\n      <th>signup_time</th>\n      <th>purchase_time</th>\n      <th>purchase_value</th>\n      <th>device_id</th>\n      <th>source</th>\n      <th>browser</th>\n      <th>sex</th>\n      <th>age</th>\n      <th>ip_address</th>\n      <th>class</th>\n      <th>ip_country</th>\n    </tr>\n  </thead>\n  <tbody>\n    <tr>\n      <th>0</th>\n      <td>0</td>\n      <td>22058</td>\n      <td>2015-02-24 22:55:49</td>\n      <td>2015-04-18 02:47:11</td>\n      <td>34</td>\n      <td>QVPSPJUOCKZAR</td>\n      <td>SEO</td>\n      <td>Chrome</td>\n      <td>M</td>\n      <td>39</td>\n      <td>7.327584e+08</td>\n      <td>0</td>\n      <td>Japan</td>\n    </tr>\n    <tr>\n      <th>1</th>\n      <td>1</td>\n      <td>333320</td>\n      <td>2015-06-07 20:39:50</td>\n      <td>2015-06-08 01:38:54</td>\n      <td>16</td>\n      <td>EOGFQPIZPYXFZ</td>\n      <td>Ads</td>\n      <td>Chrome</td>\n      <td>F</td>\n      <td>53</td>\n      <td>3.503114e+08</td>\n      <td>0</td>\n      <td>United States</td>\n    </tr>\n    <tr>\n      <th>2</th>\n      <td>2</td>\n      <td>1359</td>\n      <td>2015-01-01 18:52:44</td>\n      <td>2015-01-01 18:52:45</td>\n      <td>15</td>\n      <td>YSSKYOSJHPPLJ</td>\n      <td>SEO</td>\n      <td>Opera</td>\n      <td>M</td>\n      <td>53</td>\n      <td>2.621474e+09</td>\n      <td>1</td>\n      <td>United States</td>\n    </tr>\n    <tr>\n      <th>3</th>\n      <td>3</td>\n      <td>150084</td>\n      <td>2015-04-28 21:13:25</td>\n      <td>2015-05-04 13:54:50</td>\n      <td>44</td>\n      <td>ATGTXKYKUDUQN</td>\n      <td>SEO</td>\n      <td>Safari</td>\n      <td>M</td>\n      <td>41</td>\n      <td>3.840542e+09</td>\n      <td>0</td>\n      <td>Unknown</td>\n    </tr>\n    <tr>\n      <th>4</th>\n      <td>4</td>\n      <td>221365</td>\n      <td>2015-07-21 07:09:52</td>\n      <td>2015-09-09 18:40:53</td>\n      <td>39</td>\n      <td>NAUITBZFJKHWW</td>\n      <td>Ads</td>\n      <td>Safari</td>\n      <td>M</td>\n      <td>45</td>\n      <td>4.155831e+08</td>\n      <td>0</td>\n      <td>United States</td>\n    </tr>\n  </tbody>\n</table>\n</div>"
     },
     "metadata": {},
     "execution_count": 44
    }
   ],
   "source": [
    "fraud.head()"
   ]
  },
  {
   "cell_type": "code",
   "execution_count": 45,
   "metadata": {},
   "outputs": [],
   "source": [
    "fraud['signup_time'] = pd.to_datetime(fraud['signup_time'])\n",
    "fraud['purchase_time'] = pd.to_datetime(fraud['purchase_time'])"
   ]
  },
  {
   "cell_type": "code",
   "execution_count": 46,
   "metadata": {},
   "outputs": [],
   "source": [
    "fraud['time_delta'] = fraud['purchase_time'] - fraud['signup_time']"
   ]
  },
  {
   "cell_type": "code",
   "execution_count": 100,
   "metadata": {},
   "outputs": [],
   "source": [
    "fraud['time_delta'] = fraud['time_delta'].dt.total_seconds()"
   ]
  },
  {
   "cell_type": "code",
   "execution_count": 101,
   "metadata": {},
   "outputs": [
    {
     "output_type": "execute_result",
     "data": {
      "text/plain": "   Unnamed: 0  user_id         signup_time       purchase_time  \\\n0           0    22058 2015-02-24 22:55:49 2015-04-18 02:47:11   \n1           1   333320 2015-06-07 20:39:50 2015-06-08 01:38:54   \n2           2     1359 2015-01-01 18:52:44 2015-01-01 18:52:45   \n3           3   150084 2015-04-28 21:13:25 2015-05-04 13:54:50   \n4           4   221365 2015-07-21 07:09:52 2015-09-09 18:40:53   \n\n   purchase_value      device_id source browser sex  age    ip_address  class  \\\n0              34  QVPSPJUOCKZAR    SEO  Chrome   M   39  7.327584e+08      0   \n1              16  EOGFQPIZPYXFZ    Ads  Chrome   F   53  3.503114e+08      0   \n2              15  YSSKYOSJHPPLJ    SEO   Opera   M   53  2.621474e+09      1   \n3              44  ATGTXKYKUDUQN    SEO  Safari   M   41  3.840542e+09      0   \n4              39  NAUITBZFJKHWW    Ads  Safari   M   45  4.155831e+08      0   \n\n      ip_country  time_delta cat_time_delta purchase_day signup_day  \n0          Japan   4506682.0      not risky     Saturday    Tuesday  \n1  United States     17944.0      not risky       Monday     Sunday  \n2  United States         1.0          risky     Thursday   Thursday  \n3        Unknown    492085.0      not risky       Monday    Tuesday  \n4  United States   4361461.0      not risky    Wednesday    Tuesday  ",
      "text/html": "<div>\n<style scoped>\n    .dataframe tbody tr th:only-of-type {\n        vertical-align: middle;\n    }\n\n    .dataframe tbody tr th {\n        vertical-align: top;\n    }\n\n    .dataframe thead th {\n        text-align: right;\n    }\n</style>\n<table border=\"1\" class=\"dataframe\">\n  <thead>\n    <tr style=\"text-align: right;\">\n      <th></th>\n      <th>Unnamed: 0</th>\n      <th>user_id</th>\n      <th>signup_time</th>\n      <th>purchase_time</th>\n      <th>purchase_value</th>\n      <th>device_id</th>\n      <th>source</th>\n      <th>browser</th>\n      <th>sex</th>\n      <th>age</th>\n      <th>ip_address</th>\n      <th>class</th>\n      <th>ip_country</th>\n      <th>time_delta</th>\n      <th>cat_time_delta</th>\n      <th>purchase_day</th>\n      <th>signup_day</th>\n    </tr>\n  </thead>\n  <tbody>\n    <tr>\n      <th>0</th>\n      <td>0</td>\n      <td>22058</td>\n      <td>2015-02-24 22:55:49</td>\n      <td>2015-04-18 02:47:11</td>\n      <td>34</td>\n      <td>QVPSPJUOCKZAR</td>\n      <td>SEO</td>\n      <td>Chrome</td>\n      <td>M</td>\n      <td>39</td>\n      <td>7.327584e+08</td>\n      <td>0</td>\n      <td>Japan</td>\n      <td>4506682.0</td>\n      <td>not risky</td>\n      <td>Saturday</td>\n      <td>Tuesday</td>\n    </tr>\n    <tr>\n      <th>1</th>\n      <td>1</td>\n      <td>333320</td>\n      <td>2015-06-07 20:39:50</td>\n      <td>2015-06-08 01:38:54</td>\n      <td>16</td>\n      <td>EOGFQPIZPYXFZ</td>\n      <td>Ads</td>\n      <td>Chrome</td>\n      <td>F</td>\n      <td>53</td>\n      <td>3.503114e+08</td>\n      <td>0</td>\n      <td>United States</td>\n      <td>17944.0</td>\n      <td>not risky</td>\n      <td>Monday</td>\n      <td>Sunday</td>\n    </tr>\n    <tr>\n      <th>2</th>\n      <td>2</td>\n      <td>1359</td>\n      <td>2015-01-01 18:52:44</td>\n      <td>2015-01-01 18:52:45</td>\n      <td>15</td>\n      <td>YSSKYOSJHPPLJ</td>\n      <td>SEO</td>\n      <td>Opera</td>\n      <td>M</td>\n      <td>53</td>\n      <td>2.621474e+09</td>\n      <td>1</td>\n      <td>United States</td>\n      <td>1.0</td>\n      <td>risky</td>\n      <td>Thursday</td>\n      <td>Thursday</td>\n    </tr>\n    <tr>\n      <th>3</th>\n      <td>3</td>\n      <td>150084</td>\n      <td>2015-04-28 21:13:25</td>\n      <td>2015-05-04 13:54:50</td>\n      <td>44</td>\n      <td>ATGTXKYKUDUQN</td>\n      <td>SEO</td>\n      <td>Safari</td>\n      <td>M</td>\n      <td>41</td>\n      <td>3.840542e+09</td>\n      <td>0</td>\n      <td>Unknown</td>\n      <td>492085.0</td>\n      <td>not risky</td>\n      <td>Monday</td>\n      <td>Tuesday</td>\n    </tr>\n    <tr>\n      <th>4</th>\n      <td>4</td>\n      <td>221365</td>\n      <td>2015-07-21 07:09:52</td>\n      <td>2015-09-09 18:40:53</td>\n      <td>39</td>\n      <td>NAUITBZFJKHWW</td>\n      <td>Ads</td>\n      <td>Safari</td>\n      <td>M</td>\n      <td>45</td>\n      <td>4.155831e+08</td>\n      <td>0</td>\n      <td>United States</td>\n      <td>4361461.0</td>\n      <td>not risky</td>\n      <td>Wednesday</td>\n      <td>Tuesday</td>\n    </tr>\n  </tbody>\n</table>\n</div>"
     },
     "metadata": {},
     "execution_count": 101
    }
   ],
   "source": [
    "fraud.head()"
   ]
  },
  {
   "cell_type": "code",
   "execution_count": 48,
   "metadata": {},
   "outputs": [
    {
     "output_type": "execute_result",
     "data": {
      "text/plain": "Unnamed: 0                  int64\nuser_id                     int64\nsignup_time        datetime64[ns]\npurchase_time      datetime64[ns]\npurchase_value              int64\ndevice_id                  object\nsource                     object\nbrowser                    object\nsex                        object\nage                         int64\nip_address                float64\nclass                       int64\nip_country                 object\ntime_delta        timedelta64[ns]\ndtype: object"
     },
     "metadata": {},
     "execution_count": 48
    }
   ],
   "source": [
    "fraud.dtypes"
   ]
  },
  {
   "cell_type": "code",
   "execution_count": 49,
   "metadata": {},
   "outputs": [],
   "source": [
    "fraud['cat_time_delta'] = fraud['time_delta'].apply(lambda x: 'risky' if x < pd.Timedelta(180, unit='s') else 'not risky')  "
   ]
  },
  {
   "cell_type": "code",
   "execution_count": 50,
   "metadata": {},
   "outputs": [
    {
     "output_type": "execute_result",
     "data": {
      "text/plain": "   Unnamed: 0  user_id         signup_time       purchase_time  \\\n0           0    22058 2015-02-24 22:55:49 2015-04-18 02:47:11   \n1           1   333320 2015-06-07 20:39:50 2015-06-08 01:38:54   \n2           2     1359 2015-01-01 18:52:44 2015-01-01 18:52:45   \n3           3   150084 2015-04-28 21:13:25 2015-05-04 13:54:50   \n4           4   221365 2015-07-21 07:09:52 2015-09-09 18:40:53   \n\n   purchase_value      device_id source browser sex  age    ip_address  class  \\\n0              34  QVPSPJUOCKZAR    SEO  Chrome   M   39  7.327584e+08      0   \n1              16  EOGFQPIZPYXFZ    Ads  Chrome   F   53  3.503114e+08      0   \n2              15  YSSKYOSJHPPLJ    SEO   Opera   M   53  2.621474e+09      1   \n3              44  ATGTXKYKUDUQN    SEO  Safari   M   41  3.840542e+09      0   \n4              39  NAUITBZFJKHWW    Ads  Safari   M   45  4.155831e+08      0   \n\n      ip_country       time_delta cat_time_delta  \n0          Japan 52 days 03:51:22      not risky  \n1  United States  0 days 04:59:04      not risky  \n2  United States  0 days 00:00:01          risky  \n3        Unknown  5 days 16:41:25      not risky  \n4  United States 50 days 11:31:01      not risky  ",
      "text/html": "<div>\n<style scoped>\n    .dataframe tbody tr th:only-of-type {\n        vertical-align: middle;\n    }\n\n    .dataframe tbody tr th {\n        vertical-align: top;\n    }\n\n    .dataframe thead th {\n        text-align: right;\n    }\n</style>\n<table border=\"1\" class=\"dataframe\">\n  <thead>\n    <tr style=\"text-align: right;\">\n      <th></th>\n      <th>Unnamed: 0</th>\n      <th>user_id</th>\n      <th>signup_time</th>\n      <th>purchase_time</th>\n      <th>purchase_value</th>\n      <th>device_id</th>\n      <th>source</th>\n      <th>browser</th>\n      <th>sex</th>\n      <th>age</th>\n      <th>ip_address</th>\n      <th>class</th>\n      <th>ip_country</th>\n      <th>time_delta</th>\n      <th>cat_time_delta</th>\n    </tr>\n  </thead>\n  <tbody>\n    <tr>\n      <th>0</th>\n      <td>0</td>\n      <td>22058</td>\n      <td>2015-02-24 22:55:49</td>\n      <td>2015-04-18 02:47:11</td>\n      <td>34</td>\n      <td>QVPSPJUOCKZAR</td>\n      <td>SEO</td>\n      <td>Chrome</td>\n      <td>M</td>\n      <td>39</td>\n      <td>7.327584e+08</td>\n      <td>0</td>\n      <td>Japan</td>\n      <td>52 days 03:51:22</td>\n      <td>not risky</td>\n    </tr>\n    <tr>\n      <th>1</th>\n      <td>1</td>\n      <td>333320</td>\n      <td>2015-06-07 20:39:50</td>\n      <td>2015-06-08 01:38:54</td>\n      <td>16</td>\n      <td>EOGFQPIZPYXFZ</td>\n      <td>Ads</td>\n      <td>Chrome</td>\n      <td>F</td>\n      <td>53</td>\n      <td>3.503114e+08</td>\n      <td>0</td>\n      <td>United States</td>\n      <td>0 days 04:59:04</td>\n      <td>not risky</td>\n    </tr>\n    <tr>\n      <th>2</th>\n      <td>2</td>\n      <td>1359</td>\n      <td>2015-01-01 18:52:44</td>\n      <td>2015-01-01 18:52:45</td>\n      <td>15</td>\n      <td>YSSKYOSJHPPLJ</td>\n      <td>SEO</td>\n      <td>Opera</td>\n      <td>M</td>\n      <td>53</td>\n      <td>2.621474e+09</td>\n      <td>1</td>\n      <td>United States</td>\n      <td>0 days 00:00:01</td>\n      <td>risky</td>\n    </tr>\n    <tr>\n      <th>3</th>\n      <td>3</td>\n      <td>150084</td>\n      <td>2015-04-28 21:13:25</td>\n      <td>2015-05-04 13:54:50</td>\n      <td>44</td>\n      <td>ATGTXKYKUDUQN</td>\n      <td>SEO</td>\n      <td>Safari</td>\n      <td>M</td>\n      <td>41</td>\n      <td>3.840542e+09</td>\n      <td>0</td>\n      <td>Unknown</td>\n      <td>5 days 16:41:25</td>\n      <td>not risky</td>\n    </tr>\n    <tr>\n      <th>4</th>\n      <td>4</td>\n      <td>221365</td>\n      <td>2015-07-21 07:09:52</td>\n      <td>2015-09-09 18:40:53</td>\n      <td>39</td>\n      <td>NAUITBZFJKHWW</td>\n      <td>Ads</td>\n      <td>Safari</td>\n      <td>M</td>\n      <td>45</td>\n      <td>4.155831e+08</td>\n      <td>0</td>\n      <td>United States</td>\n      <td>50 days 11:31:01</td>\n      <td>not risky</td>\n    </tr>\n  </tbody>\n</table>\n</div>"
     },
     "metadata": {},
     "execution_count": 50
    }
   ],
   "source": [
    "fraud.head()"
   ]
  },
  {
   "cell_type": "code",
   "execution_count": 63,
   "metadata": {},
   "outputs": [],
   "source": [
    "fraud['purchase_day'] = fraud.purchase_time.dt.day_name()"
   ]
  },
  {
   "cell_type": "code",
   "execution_count": 65,
   "metadata": {},
   "outputs": [],
   "source": [
    "fraud['signup_day'] = fraud.signup_time.dt.day_name()"
   ]
  },
  {
   "cell_type": "code",
   "execution_count": 66,
   "metadata": {},
   "outputs": [
    {
     "output_type": "execute_result",
     "data": {
      "text/plain": "        Unnamed: 0  user_id         signup_time       purchase_time  \\\n25              25    59780 2015-01-04 22:32:33 2015-01-16 01:13:43   \n59              59   345865 2015-02-01 05:59:23 2015-02-20 08:09:10   \n60              60   324683 2015-01-18 02:51:59 2015-04-19 22:24:33   \n63              63   336190 2015-01-05 21:07:24 2015-03-15 00:43:18   \n93              93   198982 2015-04-17 07:26:15 2015-05-03 21:43:57   \n...            ...      ...                 ...                 ...   \n151040      151040   346275 2015-01-09 23:52:28 2015-03-15 00:19:45   \n151060      151060   249513 2015-04-04 15:22:22 2015-05-11 12:23:29   \n151065      151065   353874 2015-05-06 12:33:34 2015-08-28 18:26:48   \n151071      151071    50094 2015-02-06 06:42:29 2015-05-17 09:49:50   \n151107      151107   345170 2015-01-27 03:03:34 2015-03-29 00:30:47   \n\n        purchase_value      device_id  source  browser sex  age    ip_address  \\\n25                  31  WUMOBGUCBOXPO     SEO  FireFox   M   36  1.752167e+09   \n59                  36  FKQPZUELCRKBL     SEO       IE   M   30  2.740590e+09   \n60                  27  JFVSIORUJBMXS     Ads       IE   M   28  4.228028e+09   \n63                  14  ECDEOLUBPCUAI     Ads       IE   M   35  4.006900e+09   \n93                  44  BYSCYGRHWSHIU     Ads   Chrome   F   26  1.334106e+09   \n...                ...            ...     ...      ...  ..  ...           ...   \n151040              34  CUPGDHRWTZEVR     SEO  FireFox   M   37  3.224496e+09   \n151060              58  ALMGRNMQZIBTF     SEO   Chrome   F   47  2.531495e+09   \n151065              26  WOOORFWZMBKNS     Ads       IE   M   22  3.453753e+09   \n151071              40  RZIAHBNHGFPBM  Direct       IE   F   29  8.697384e+08   \n151107              43  XPSKTWGPWINLR     SEO   Chrome   M   28  3.451155e+09   \n\n        class                  ip_country        time_delta cat_time_delta  \\\n25          1               United States  11 days 02:41:10      not risky   \n59          1                      France  19 days 02:09:47      not risky   \n60          1                     Unknown  91 days 19:32:34      not risky   \n63          1                     Unknown  68 days 03:35:54      not risky   \n93          1  Iran (ISLAMIC Republic Of)  16 days 14:17:42      not risky   \n...       ...                         ...               ...            ...   \n151040      1                     Finland  64 days 00:27:17      not risky   \n151060      1                      Sweden  36 days 21:01:07      not risky   \n151065      1               United States 114 days 05:53:14      not risky   \n151071      1              United Kingdom 100 days 03:07:21      not risky   \n151107      1               United States  60 days 21:27:13      not risky   \n\n       purchase_day signup_day  \n25           Friday     Sunday  \n59           Friday     Sunday  \n60           Sunday     Sunday  \n63           Sunday     Monday  \n93           Sunday     Friday  \n...             ...        ...  \n151040       Sunday     Friday  \n151060       Monday   Saturday  \n151065       Friday  Wednesday  \n151071       Sunday     Friday  \n151107       Sunday    Tuesday  \n\n[6551 rows x 17 columns]",
      "text/html": "<div>\n<style scoped>\n    .dataframe tbody tr th:only-of-type {\n        vertical-align: middle;\n    }\n\n    .dataframe tbody tr th {\n        vertical-align: top;\n    }\n\n    .dataframe thead th {\n        text-align: right;\n    }\n</style>\n<table border=\"1\" class=\"dataframe\">\n  <thead>\n    <tr style=\"text-align: right;\">\n      <th></th>\n      <th>Unnamed: 0</th>\n      <th>user_id</th>\n      <th>signup_time</th>\n      <th>purchase_time</th>\n      <th>purchase_value</th>\n      <th>device_id</th>\n      <th>source</th>\n      <th>browser</th>\n      <th>sex</th>\n      <th>age</th>\n      <th>ip_address</th>\n      <th>class</th>\n      <th>ip_country</th>\n      <th>time_delta</th>\n      <th>cat_time_delta</th>\n      <th>purchase_day</th>\n      <th>signup_day</th>\n    </tr>\n  </thead>\n  <tbody>\n    <tr>\n      <th>25</th>\n      <td>25</td>\n      <td>59780</td>\n      <td>2015-01-04 22:32:33</td>\n      <td>2015-01-16 01:13:43</td>\n      <td>31</td>\n      <td>WUMOBGUCBOXPO</td>\n      <td>SEO</td>\n      <td>FireFox</td>\n      <td>M</td>\n      <td>36</td>\n      <td>1.752167e+09</td>\n      <td>1</td>\n      <td>United States</td>\n      <td>11 days 02:41:10</td>\n      <td>not risky</td>\n      <td>Friday</td>\n      <td>Sunday</td>\n    </tr>\n    <tr>\n      <th>59</th>\n      <td>59</td>\n      <td>345865</td>\n      <td>2015-02-01 05:59:23</td>\n      <td>2015-02-20 08:09:10</td>\n      <td>36</td>\n      <td>FKQPZUELCRKBL</td>\n      <td>SEO</td>\n      <td>IE</td>\n      <td>M</td>\n      <td>30</td>\n      <td>2.740590e+09</td>\n      <td>1</td>\n      <td>France</td>\n      <td>19 days 02:09:47</td>\n      <td>not risky</td>\n      <td>Friday</td>\n      <td>Sunday</td>\n    </tr>\n    <tr>\n      <th>60</th>\n      <td>60</td>\n      <td>324683</td>\n      <td>2015-01-18 02:51:59</td>\n      <td>2015-04-19 22:24:33</td>\n      <td>27</td>\n      <td>JFVSIORUJBMXS</td>\n      <td>Ads</td>\n      <td>IE</td>\n      <td>M</td>\n      <td>28</td>\n      <td>4.228028e+09</td>\n      <td>1</td>\n      <td>Unknown</td>\n      <td>91 days 19:32:34</td>\n      <td>not risky</td>\n      <td>Sunday</td>\n      <td>Sunday</td>\n    </tr>\n    <tr>\n      <th>63</th>\n      <td>63</td>\n      <td>336190</td>\n      <td>2015-01-05 21:07:24</td>\n      <td>2015-03-15 00:43:18</td>\n      <td>14</td>\n      <td>ECDEOLUBPCUAI</td>\n      <td>Ads</td>\n      <td>IE</td>\n      <td>M</td>\n      <td>35</td>\n      <td>4.006900e+09</td>\n      <td>1</td>\n      <td>Unknown</td>\n      <td>68 days 03:35:54</td>\n      <td>not risky</td>\n      <td>Sunday</td>\n      <td>Monday</td>\n    </tr>\n    <tr>\n      <th>93</th>\n      <td>93</td>\n      <td>198982</td>\n      <td>2015-04-17 07:26:15</td>\n      <td>2015-05-03 21:43:57</td>\n      <td>44</td>\n      <td>BYSCYGRHWSHIU</td>\n      <td>Ads</td>\n      <td>Chrome</td>\n      <td>F</td>\n      <td>26</td>\n      <td>1.334106e+09</td>\n      <td>1</td>\n      <td>Iran (ISLAMIC Republic Of)</td>\n      <td>16 days 14:17:42</td>\n      <td>not risky</td>\n      <td>Sunday</td>\n      <td>Friday</td>\n    </tr>\n    <tr>\n      <th>...</th>\n      <td>...</td>\n      <td>...</td>\n      <td>...</td>\n      <td>...</td>\n      <td>...</td>\n      <td>...</td>\n      <td>...</td>\n      <td>...</td>\n      <td>...</td>\n      <td>...</td>\n      <td>...</td>\n      <td>...</td>\n      <td>...</td>\n      <td>...</td>\n      <td>...</td>\n      <td>...</td>\n      <td>...</td>\n    </tr>\n    <tr>\n      <th>151040</th>\n      <td>151040</td>\n      <td>346275</td>\n      <td>2015-01-09 23:52:28</td>\n      <td>2015-03-15 00:19:45</td>\n      <td>34</td>\n      <td>CUPGDHRWTZEVR</td>\n      <td>SEO</td>\n      <td>FireFox</td>\n      <td>M</td>\n      <td>37</td>\n      <td>3.224496e+09</td>\n      <td>1</td>\n      <td>Finland</td>\n      <td>64 days 00:27:17</td>\n      <td>not risky</td>\n      <td>Sunday</td>\n      <td>Friday</td>\n    </tr>\n    <tr>\n      <th>151060</th>\n      <td>151060</td>\n      <td>249513</td>\n      <td>2015-04-04 15:22:22</td>\n      <td>2015-05-11 12:23:29</td>\n      <td>58</td>\n      <td>ALMGRNMQZIBTF</td>\n      <td>SEO</td>\n      <td>Chrome</td>\n      <td>F</td>\n      <td>47</td>\n      <td>2.531495e+09</td>\n      <td>1</td>\n      <td>Sweden</td>\n      <td>36 days 21:01:07</td>\n      <td>not risky</td>\n      <td>Monday</td>\n      <td>Saturday</td>\n    </tr>\n    <tr>\n      <th>151065</th>\n      <td>151065</td>\n      <td>353874</td>\n      <td>2015-05-06 12:33:34</td>\n      <td>2015-08-28 18:26:48</td>\n      <td>26</td>\n      <td>WOOORFWZMBKNS</td>\n      <td>Ads</td>\n      <td>IE</td>\n      <td>M</td>\n      <td>22</td>\n      <td>3.453753e+09</td>\n      <td>1</td>\n      <td>United States</td>\n      <td>114 days 05:53:14</td>\n      <td>not risky</td>\n      <td>Friday</td>\n      <td>Wednesday</td>\n    </tr>\n    <tr>\n      <th>151071</th>\n      <td>151071</td>\n      <td>50094</td>\n      <td>2015-02-06 06:42:29</td>\n      <td>2015-05-17 09:49:50</td>\n      <td>40</td>\n      <td>RZIAHBNHGFPBM</td>\n      <td>Direct</td>\n      <td>IE</td>\n      <td>F</td>\n      <td>29</td>\n      <td>8.697384e+08</td>\n      <td>1</td>\n      <td>United Kingdom</td>\n      <td>100 days 03:07:21</td>\n      <td>not risky</td>\n      <td>Sunday</td>\n      <td>Friday</td>\n    </tr>\n    <tr>\n      <th>151107</th>\n      <td>151107</td>\n      <td>345170</td>\n      <td>2015-01-27 03:03:34</td>\n      <td>2015-03-29 00:30:47</td>\n      <td>43</td>\n      <td>XPSKTWGPWINLR</td>\n      <td>SEO</td>\n      <td>Chrome</td>\n      <td>M</td>\n      <td>28</td>\n      <td>3.451155e+09</td>\n      <td>1</td>\n      <td>United States</td>\n      <td>60 days 21:27:13</td>\n      <td>not risky</td>\n      <td>Sunday</td>\n      <td>Tuesday</td>\n    </tr>\n  </tbody>\n</table>\n<p>6551 rows × 17 columns</p>\n</div>"
     },
     "metadata": {},
     "execution_count": 66
    }
   ],
   "source": [
    "fraud[(fraud['class'] == 1) & (fraud['cat_time_delta'] == 'not risky')]"
   ]
  },
  {
   "cell_type": "code",
   "execution_count": 102,
   "metadata": {},
   "outputs": [],
   "source": [
    "X = fraud.drop(['Unnamed: 0', 'user_id', 'class', 'signup_time', 'purchase_time', 'device_id', 'ip_address', 'cat_time_delta'], axis=1)\n",
    "y = fraud['class']"
   ]
  },
  {
   "cell_type": "code",
   "execution_count": 103,
   "metadata": {},
   "outputs": [
    {
     "output_type": "execute_result",
     "data": {
      "text/plain": "Index(['purchase_value', 'source', 'browser', 'sex', 'age', 'ip_country',\n       'time_delta', 'purchase_day', 'signup_day'],\n      dtype='object')"
     },
     "metadata": {},
     "execution_count": 103
    }
   ],
   "source": [
    "X.columns"
   ]
  },
  {
   "cell_type": "code",
   "execution_count": 104,
   "metadata": {},
   "outputs": [
    {
     "output_type": "stream",
     "name": "stdout",
     "text": "Found numeric features  ['purchase_value', 'age', 'time_delta']  at positions  [0, 4, 6]\nFound categorical features  ['source', 'browser', 'sex', 'ip_country', 'purchase_day', 'signup_day']  at positions  [1, 2, 3, 5, 7, 8]\n"
    }
   ],
   "source": [
    "idx = 0\n",
    "numeric_features = []\n",
    "numeric_indices = []\n",
    "categorical_features = []\n",
    "categorical_indices = []\n",
    "for i,t in X.dtypes.iteritems():\n",
    "  if ('float' in str(t)) or ('int' in str(t)) :\n",
    "    numeric_features.append(i)\n",
    "    numeric_indices.append(idx)\n",
    "  else :\n",
    "    categorical_features.append(i)\n",
    "    categorical_indices.append(idx)\n",
    "\n",
    "  idx = idx + 1\n",
    "\n",
    "print('Found numeric features ', numeric_features,' at positions ', numeric_indices)\n",
    "print('Found categorical features ', categorical_features,' at positions ', categorical_indices)"
   ]
  },
  {
   "cell_type": "code",
   "execution_count": 105,
   "metadata": {},
   "outputs": [
    {
     "output_type": "stream",
     "name": "stdout",
     "text": "Dividing into train and test sets...\n...Done.\n\n"
    }
   ],
   "source": [
    "from sklearn.model_selection import train_test_split\n",
    "\n",
    "# Divide dataset Train set & Test set \n",
    "print(\"Dividing into train and test sets...\")\n",
    "\n",
    "X_train, X_test, y_train, y_test = train_test_split(X, y, test_size=0.2, \n",
    "                                                    random_state=42, stratify=y)\n",
    "print(\"...Done.\")\n",
    "print()"
   ]
  },
  {
   "cell_type": "code",
   "execution_count": 106,
   "metadata": {},
   "outputs": [],
   "source": [
    "from sklearn.pipeline import Pipeline\n",
    "from sklearn.preprocessing import StandardScaler, OneHotEncoder\n",
    "\n",
    "numeric_transformer = Pipeline(steps=[\n",
    "    ('scaler', StandardScaler())])\n",
    "    \n",
    "categorical_transformer = Pipeline(steps=[\n",
    "    ('onehot', OneHotEncoder(handle_unknown='ignore'))])"
   ]
  },
  {
   "cell_type": "code",
   "execution_count": 107,
   "metadata": {},
   "outputs": [],
   "source": [
    "from sklearn.compose import ColumnTransformer\n",
    "\n",
    "preprocessor = ColumnTransformer(\n",
    "    transformers=[\n",
    "        ('num', numeric_transformer, numeric_features),\n",
    "        ('cat', categorical_transformer, categorical_features)])"
   ]
  },
  {
   "cell_type": "code",
   "execution_count": 108,
   "metadata": {},
   "outputs": [],
   "source": [
    "from sklearn.ensemble import RandomForestClassifier\n",
    "\n",
    "clf = Pipeline(steps=[('preprocessor', preprocessor),\n",
    "                      ('classifier', RandomForestClassifier())])"
   ]
  },
  {
   "cell_type": "code",
   "execution_count": 109,
   "metadata": {},
   "outputs": [
    {
     "output_type": "stream",
     "name": "stdout",
     "text": "CPU times: user 2min 30s, sys: 447 ms, total: 2min 30s\nWall time: 2min 31s\n"
    },
    {
     "output_type": "execute_result",
     "data": {
      "text/plain": "Pipeline(memory=None,\n         steps=[('preprocessor',\n                 ColumnTransformer(n_jobs=None, remainder='drop',\n                                   sparse_threshold=0.3,\n                                   transformer_weights=None,\n                                   transformers=[('num',\n                                                  Pipeline(memory=None,\n                                                           steps=[('scaler',\n                                                                   StandardScaler(copy=True,\n                                                                                  with_mean=True,\n                                                                                  with_std=True))],\n                                                           verbose=False),\n                                                  ['purchase_value', 'age',\n                                                   'time_delta']),\n                                                 ('cat',\n                                                  Pipeline(memory=None,\n                                                           steps=[('onehot...\n                 RandomForestClassifier(bootstrap=True, ccp_alpha=0.0,\n                                        class_weight=None, criterion='gini',\n                                        max_depth=None, max_features='auto',\n                                        max_leaf_nodes=None, max_samples=None,\n                                        min_impurity_decrease=0.0,\n                                        min_impurity_split=None,\n                                        min_samples_leaf=1, min_samples_split=2,\n                                        min_weight_fraction_leaf=0.0,\n                                        n_estimators=100, n_jobs=None,\n                                        oob_score=False, random_state=None,\n                                        verbose=0, warm_start=False))],\n         verbose=False)"
     },
     "metadata": {},
     "execution_count": 109
    }
   ],
   "source": [
    "%time clf.fit(X_train, y_train)"
   ]
  },
  {
   "cell_type": "code",
   "execution_count": 110,
   "metadata": {},
   "outputs": [
    {
     "output_type": "execute_result",
     "data": {
      "text/plain": "0.9555967309664825"
     },
     "metadata": {},
     "execution_count": 110
    }
   ],
   "source": [
    "clf.score(X_test, y_test) # 0.9556959931178242 -> avec le cat time delta seulement"
   ]
  },
  {
   "cell_type": "code",
   "execution_count": 111,
   "metadata": {},
   "outputs": [
    {
     "output_type": "stream",
     "name": "stdout",
     "text": "precision    recall  f1-score   support\n\n           0       0.95      1.00      0.98     27393\n           1       1.00      0.53      0.69      2830\n\n    accuracy                           0.96     30223\n   macro avg       0.98      0.76      0.83     30223\nweighted avg       0.96      0.96      0.95     30223\n\n"
    }
   ],
   "source": [
    "from sklearn.metrics import classification_report\n",
    "y_test_pred = clf.predict(X_test)\n",
    "print(classification_report(y_test, y_test_pred))"
   ]
  },
  {
   "cell_type": "code",
   "execution_count": 112,
   "metadata": {},
   "outputs": [
    {
     "output_type": "stream",
     "name": "stdout",
     "text": "AdaBoostClassifier(algorithm='SAMME.R', base_estimator=None, learning_rate=0.5,\n                   n_estimators=50, random_state=None)\nmodel score: 0.95569599\nGradientBoostingClassifier(ccp_alpha=0.0, criterion='friedman_mse', init=None,\n                           learning_rate=0.1, loss='deviance', max_depth=3,\n                           max_features=None, max_leaf_nodes=None,\n                           min_impurity_decrease=0.0, min_impurity_split=None,\n                           min_samples_leaf=1, min_samples_split=2,\n                           min_weight_fraction_leaf=0.0, n_estimators=100,\n                           n_iter_no_change=None, presort='deprecated',\n                           random_state=None, subsample=1.0, tol=0.0001,\n                           validation_fraction=0.1, verbose=0,\n                           warm_start=False)\nmodel score: 0.95566291\n"
    }
   ],
   "source": [
    "from sklearn.metrics import accuracy_score, log_loss\n",
    "from sklearn.svm import SVC\n",
    "from sklearn.tree import DecisionTreeClassifier\n",
    "from sklearn.ensemble import RandomForestClassifier, AdaBoostClassifier, GradientBoostingClassifier\n",
    "from sklearn.discriminant_analysis import LinearDiscriminantAnalysis\n",
    "\n",
    "classifiers = [\n",
    "    AdaBoostClassifier(learning_rate=0.5),  # 0.955696\n",
    "    GradientBoostingClassifier()\n",
    "    ]\n",
    "\n",
    "for classifier in classifiers:\n",
    "    pipe = Pipeline(steps=[('preprocessor', preprocessor),\n",
    "                      ('classifier', classifier)])\n",
    "    pipe.fit(X_train, y_train)   \n",
    "    print(classifier)\n",
    "    print(\"model score: %.8f\" % pipe.score(X_test, y_test))"
   ]
  },
  {
   "cell_type": "code",
   "execution_count": 87,
   "metadata": {},
   "outputs": [
    {
     "output_type": "stream",
     "name": "stdout",
     "text": "CPU times: user 2.6 s, sys: 1.29 s, total: 3.89 s\nWall time: 14min 18s\n"
    },
    {
     "output_type": "execute_result",
     "data": {
      "text/plain": "Pipeline(memory=None,\n         steps=[('preprocessor',\n                 ColumnTransformer(n_jobs=None, remainder='drop',\n                                   sparse_threshold=0.3,\n                                   transformer_weights=None,\n                                   transformers=[('num',\n                                                  Pipeline(memory=None,\n                                                           steps=[('scaler',\n                                                                   StandardScaler(copy=True,\n                                                                                  with_mean=True,\n                                                                                  with_std=True))],\n                                                           verbose=False),\n                                                  ['purchase_value', 'age']),\n                                                 ('cat',\n                                                  Pipeline(memory=None,\n                                                           steps=[('onehot',\n                                                                   OneHotEncod...\n                                                                        class_weight=None,\n                                                                        criterion='gini',\n                                                                        max_depth=None,\n                                                                        max_features=None,\n                                                                        max_leaf_nodes=None,\n                                                                        min_impurity_decrease=0.0,\n                                                                        min_impurity_split=None,\n                                                                        min_samples_leaf=1,\n                                                                        min_samples_split=2,\n                                                                        min_weight_fraction_leaf=0.0,\n                                                                        presort='deprecated',\n                                                                        random_state=None,\n                                                                        splitter='best'))],\n                                    final_estimator=None, n_jobs=-1,\n                                    passthrough=False, stack_method='auto',\n                                    verbose=0))],\n         verbose=False)"
     },
     "metadata": {},
     "execution_count": 87
    }
   ],
   "source": [
    "from sklearn.ensemble import StackingClassifier\n",
    "from sklearn.linear_model import LogisticRegression\n",
    "\n",
    "\n",
    "stk = StackingClassifier(\n",
    "    estimators= [\n",
    "            ('forest', RandomForestClassifier()),\n",
    "            ('logreg', LogisticRegression(class_weight={0:0.1,1:0.9})),\n",
    "            ('tree', DecisionTreeClassifier())\n",
    "    ],\n",
    "    n_jobs=-1\n",
    ")\n",
    "\n",
    "clf = Pipeline(steps=[('preprocessor', preprocessor),\n",
    "                      ('classifier', stk)])\n",
    "\n",
    "%time clf.fit(X_train, y_train)"
   ]
  },
  {
   "cell_type": "code",
   "execution_count": 89,
   "metadata": {},
   "outputs": [
    {
     "output_type": "execute_result",
     "data": {
      "text/plain": "0.9556959931178242"
     },
     "metadata": {},
     "execution_count": 89
    }
   ],
   "source": [
    "clf.score(X_test, y_test) # 0.9556959931178242"
   ]
  },
  {
   "cell_type": "code",
   "execution_count": 90,
   "metadata": {},
   "outputs": [
    {
     "output_type": "execute_result",
     "data": {
      "text/plain": "0.7013076393668273"
     },
     "metadata": {},
     "execution_count": 90
    }
   ],
   "source": [
    "from sklearn.metrics import f1_score\n",
    "y_train_pred = clf.predict(X_train)\n",
    "f1_score(y_train, y_train_pred)"
   ]
  },
  {
   "cell_type": "code",
   "execution_count": 91,
   "metadata": {},
   "outputs": [
    {
     "output_type": "execute_result",
     "data": {
      "text/plain": "0.6901180282342051"
     },
     "metadata": {},
     "execution_count": 91
    }
   ],
   "source": [
    "y_test_pred = clf.predict(X_test)\n",
    "f1_score(y_test, y_test_pred)"
   ]
  },
  {
   "cell_type": "code",
   "execution_count": 94,
   "metadata": {},
   "outputs": [],
   "source": [
    "from xgboost import XGBClassifier"
   ]
  },
  {
   "cell_type": "code",
   "execution_count": 113,
   "metadata": {},
   "outputs": [
    {
     "output_type": "stream",
     "name": "stdout",
     "text": "CPU times: user 23.1 s, sys: 133 ms, total: 23.2 s\nWall time: 8.54 s\n"
    },
    {
     "output_type": "execute_result",
     "data": {
      "text/plain": "Pipeline(memory=None,\n         steps=[('preprocessor',\n                 ColumnTransformer(n_jobs=None, remainder='drop',\n                                   sparse_threshold=0.3,\n                                   transformer_weights=None,\n                                   transformers=[('num',\n                                                  Pipeline(memory=None,\n                                                           steps=[('scaler',\n                                                                   StandardScaler(copy=True,\n                                                                                  with_mean=True,\n                                                                                  with_std=True))],\n                                                           verbose=False),\n                                                  ['purchase_value', 'age',\n                                                   'time_delta']),\n                                                 ('cat',\n                                                  Pipeline(memory=None,\n                                                           steps=[('onehot...\n                               interaction_constraints=None,\n                               learning_rate=0.300000012, max_delta_step=0,\n                               max_depth=6, min_child_weight=1, missing=nan,\n                               monotone_constraints=None, n_estimators=100,\n                               n_jobs=0, num_parallel_tree=1,\n                               objective='binary:logistic', random_state=0,\n                               reg_alpha=0, reg_lambda=1, scale_pos_weight=1,\n                               subsample=1, tree_method=None,\n                               validate_parameters=False, verbosity=None))],\n         verbose=False)"
     },
     "metadata": {},
     "execution_count": 113
    }
   ],
   "source": [
    "xgb = Pipeline(steps=[('preprocessor', preprocessor),\n",
    "                      ('xgboost', XGBClassifier())])\n",
    "\n",
    "%time xgb.fit(X_train, y_train)"
   ]
  },
  {
   "cell_type": "code",
   "execution_count": 114,
   "metadata": {},
   "outputs": [
    {
     "output_type": "execute_result",
     "data": {
      "text/plain": "0.9556629057340436"
     },
     "metadata": {},
     "execution_count": 114
    }
   ],
   "source": [
    "xgb.score(X_test, y_test)"
   ]
  },
  {
   "cell_type": "code",
   "execution_count": 115,
   "metadata": {},
   "outputs": [
    {
     "output_type": "execute_result",
     "data": {
      "text/plain": "0.7017946218680121"
     },
     "metadata": {},
     "execution_count": 115
    }
   ],
   "source": [
    "y_train_pred = xgb.predict(X_train)\n",
    "f1_score(y_train, y_train_pred)"
   ]
  },
  {
   "cell_type": "code",
   "execution_count": 116,
   "metadata": {},
   "outputs": [
    {
     "output_type": "execute_result",
     "data": {
      "text/plain": "0.6899583526145303"
     },
     "metadata": {},
     "execution_count": 116
    }
   ],
   "source": [
    "y_test_pred = xgb.predict(X_test)\n",
    "f1_score(y_test, y_test_pred)"
   ]
  },
  {
   "cell_type": "code",
   "execution_count": null,
   "metadata": {},
   "outputs": [],
   "source": []
  }
 ]
}